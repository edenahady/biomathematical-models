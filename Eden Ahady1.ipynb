{
  "nbformat": 4,
  "nbformat_minor": 0,
  "metadata": {
    "colab": {
      "provenance": []
    },
    "kernelspec": {
      "name": "python3",
      "display_name": "Python 3"
    },
    "language_info": {
      "name": "python"
    }
  },
  "cells": [
    {
      "cell_type": "code",
      "execution_count": 1,
      "metadata": {
        "id": "jI2ZqyECpBTa"
      },
      "outputs": [],
      "source": [
        "import numpy as np\n",
        "import matplotlib.pyplot as plt\n",
        "from scipy.integrate import odeint"
      ]
    },
    {
      "cell_type": "code",
      "source": [
        "def gillespie_algoritm(alpha,beta, gamma, sigma, x0, t_end):\n",
        "  x= x0\n",
        "  t= 0.0\n",
        "  times = [t]\n",
        "  population = [x]\n",
        "\n",
        "  while t< t_end:\n",
        "    rates = [alpha*x, beta*x, gamma, sigma*(x*(x-1))/2]\n",
        "    #if rates are negative change to zero\n",
        "    rates = [max(rate,0) for rate in rates]\n",
        "    total = sum(rates)\n",
        "\n",
        "    if total == 0.0:\n",
        "      break\n",
        "    dt = np.random.exponential(scale = 1/ total)\n",
        "    t = t+dt\n",
        "\n",
        "    prob = [rate/total for rate in rates]\n",
        "    our_case = np.random.choice(range(4), p= prob)\n",
        "\n",
        "    if(our_case == 0):\n",
        "      x = x + 1\n",
        "    elif(our_case == 1):\n",
        "      x = x - 1\n",
        "    elif(our_case == 3):\n",
        "      x = x - 2\n",
        "\n",
        "    times.append(t)\n",
        "    population.append(x)\n",
        "\n",
        "  return times, population"
      ],
      "metadata": {
        "id": "wwAk0eKepCPu"
      },
      "execution_count": 2,
      "outputs": []
    },
    {
      "cell_type": "code",
      "source": [
        "import math\n",
        "alpha1 = 1\n",
        "beta1 = 0.1\n",
        "gamma1 = 0.8\n",
        "sigma1 = 0.2\n",
        "\n",
        "#second simulation\n",
        "alpha2 = 1\n",
        "beta2 = 0.1\n",
        "gamma2 = 1.5\n",
        "sigma2 = 0.02\n",
        "in_sqrt = (2 * alpha1 - 2 * beta1 + 5)**2 - 4 * (-3) * sigma1 * 2 * alpha1 - 2 * sigma1\n",
        "x0 = (2 * beta1 - 2 * alpha1 - 5 + math.sqrt(in_sqrt)) / (2 * (-3) * sigma1)\n",
        "t_end = 10\n",
        "#simulating with the first group of parameters\n",
        "times1 , population1 = gillespie_algoritm(alpha1,beta1, gamma1, sigma1, x0, t_end)\n",
        "\n",
        "#simulating with thw first group of parameters\n",
        "times2 , population2 = gillespie_algoritm(alpha2,beta2, gamma2, sigma2, x0, t_end)\n",
        "\n",
        "#plot histogram\n",
        "plt.hist(population1, bins = 'auto', alpha=0.7, label='Simulation 1' )\n",
        "plt.hist(population2, bins = 'auto', alpha=0.7, label='Simulation 2' )\n",
        "plt.ylabel('population')\n",
        "plt.xlabel('Frequency')\n",
        "plt.legend()\n",
        "plt.show()"
      ],
      "metadata": {
        "colab": {
          "base_uri": "https://localhost:8080/",
          "height": 449
        },
        "id": "_Z-fnBvwwMOO",
        "outputId": "bf070c3d-5543-45c3-967b-d601963ed7e8"
      },
      "execution_count": 9,
      "outputs": [
        {
          "output_type": "display_data",
          "data": {
            "text/plain": [
              "<Figure size 640x480 with 1 Axes>"
            ],
            "image/png": "[encoded data removed]"
          },
          "metadata": {}
        }
      ]
    }
  ]
}